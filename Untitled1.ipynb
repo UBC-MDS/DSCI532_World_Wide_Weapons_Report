{
 "cells": [
  {
   "cell_type": "code",
   "execution_count": 1,
   "metadata": {},
   "outputs": [],
   "source": [
    "import pandas as pd\n",
    "import numpy as np\n",
    "import altair as alt\n",
    "from vega_datasets import data"
   ]
  },
  {
   "cell_type": "code",
   "execution_count": 24,
   "metadata": {},
   "outputs": [],
   "source": [
    "world_map_skl = alt.topo_feature(data.world_110m.url, 'countries')\n",
    "gdps = pd.read_csv('https://raw.githubusercontent.com/UBC-MDS/DSCI532_World_Wide_Weapons_Report/master/data/clean/gdp_1960_2018_worldbank.csv')\n",
    "arms = pd.read_csv('https://raw.githubusercontent.com/UBC-MDS/DSCI532_World_Wide_Weapons_Report/master/data/clean/un-arms-and-ammunition_1988-2018.csv')\n",
    "alt_country_ids = pd.read_csv(\n",
    "    'https://raw.githubusercontent.com/KoGor/Map-Icons-Generator/master/data/world-110m-country-names.tsv',\n",
    "    delimiter=\"\\t\")\n",
    "\n",
    "# additional wrangling\n",
    "gdp_ids = pd.merge(gdps, alt_country_ids, left_on='Country', right_on='name')[['Country', 'id', 'Year', 'GDP']].dropna()\n",
    "arms_cleaned = arms[['Country', 'Year', 'Direction', 'USD_Value']]\n",
    "arms_gdp = arms_cleaned.merge(gdp_ids, on=['Country', 'Year'], how=\"left\")\n",
    "arms_gdp['percent_GDP'] = arms_gdp['USD_Value'] / arms_gdp['GDP']"
   ]
  },
  {
   "cell_type": "code",
   "execution_count": 25,
   "metadata": {},
   "outputs": [
    {
     "data": {
      "text/html": [
       "<div>\n",
       "<style scoped>\n",
       "    .dataframe tbody tr th:only-of-type {\n",
       "        vertical-align: middle;\n",
       "    }\n",
       "\n",
       "    .dataframe tbody tr th {\n",
       "        vertical-align: top;\n",
       "    }\n",
       "\n",
       "    .dataframe thead th {\n",
       "        text-align: right;\n",
       "    }\n",
       "</style>\n",
       "<table border=\"1\" class=\"dataframe\">\n",
       "  <thead>\n",
       "    <tr style=\"text-align: right;\">\n",
       "      <th></th>\n",
       "      <th>Country</th>\n",
       "      <th>Year</th>\n",
       "      <th>Direction</th>\n",
       "      <th>USD_Value</th>\n",
       "      <th>id</th>\n",
       "      <th>GDP</th>\n",
       "      <th>percent_GDP</th>\n",
       "    </tr>\n",
       "  </thead>\n",
       "  <tbody>\n",
       "    <tr>\n",
       "      <th>0</th>\n",
       "      <td>Afghanistan</td>\n",
       "      <td>2018</td>\n",
       "      <td>Import</td>\n",
       "      <td>14310406.46</td>\n",
       "      <td>4.0</td>\n",
       "      <td>1.936297e+10</td>\n",
       "      <td>0.000739</td>\n",
       "    </tr>\n",
       "    <tr>\n",
       "      <th>1</th>\n",
       "      <td>Albania</td>\n",
       "      <td>1996</td>\n",
       "      <td>Export</td>\n",
       "      <td>643987.00</td>\n",
       "      <td>8.0</td>\n",
       "      <td>3.199643e+09</td>\n",
       "      <td>0.000201</td>\n",
       "    </tr>\n",
       "    <tr>\n",
       "      <th>2</th>\n",
       "      <td>Albania</td>\n",
       "      <td>1996</td>\n",
       "      <td>Import</td>\n",
       "      <td>681962.00</td>\n",
       "      <td>8.0</td>\n",
       "      <td>3.199643e+09</td>\n",
       "      <td>0.000213</td>\n",
       "    </tr>\n",
       "    <tr>\n",
       "      <th>3</th>\n",
       "      <td>Albania</td>\n",
       "      <td>1997</td>\n",
       "      <td>Export</td>\n",
       "      <td>28852.00</td>\n",
       "      <td>8.0</td>\n",
       "      <td>2.258516e+09</td>\n",
       "      <td>0.000013</td>\n",
       "    </tr>\n",
       "    <tr>\n",
       "      <th>4</th>\n",
       "      <td>Albania</td>\n",
       "      <td>1997</td>\n",
       "      <td>Import</td>\n",
       "      <td>391527.00</td>\n",
       "      <td>8.0</td>\n",
       "      <td>2.258516e+09</td>\n",
       "      <td>0.000173</td>\n",
       "    </tr>\n",
       "  </tbody>\n",
       "</table>\n",
       "</div>"
      ],
      "text/plain": [
       "       Country  Year Direction    USD_Value   id           GDP  percent_GDP\n",
       "0  Afghanistan  2018    Import  14310406.46  4.0  1.936297e+10     0.000739\n",
       "1      Albania  1996    Export    643987.00  8.0  3.199643e+09     0.000201\n",
       "2      Albania  1996    Import    681962.00  8.0  3.199643e+09     0.000213\n",
       "3      Albania  1997    Export     28852.00  8.0  2.258516e+09     0.000013\n",
       "4      Albania  1997    Import    391527.00  8.0  2.258516e+09     0.000173"
      ]
     },
     "execution_count": 25,
     "metadata": {},
     "output_type": "execute_result"
    }
   ],
   "source": [
    "arms_gdp.head()"
   ]
  },
  {
   "cell_type": "code",
   "execution_count": 27,
   "metadata": {},
   "outputs": [],
   "source": [
    "# choose which countries to put into this chart\n",
    "# select 2018 for now - UNDO THIS LATER!!!!!\n",
    "arms_gdp[(arms_gdp['Year'] == 2018) & (arms_gdp['Direction'] == 'Export')].sort_values(\"USD_Value\", ascending=False).head()\n",
    "\n",
    "# List of Country Names to look at \n",
    "countries = ['USA', 'Italy', 'Spain', 'Germany', 'Czech Rep.', 'Brazil', 'Norway', 'Switzerland', 'Turkey', 'Canada', 'Japan', 'Croatia', 'United Kingdom', 'France']"
   ]
  },
  {
   "cell_type": "code",
   "execution_count": 56,
   "metadata": {},
   "outputs": [
    {
     "data": {
      "text/html": [
       "<div>\n",
       "<style scoped>\n",
       "    .dataframe tbody tr th:only-of-type {\n",
       "        vertical-align: middle;\n",
       "    }\n",
       "\n",
       "    .dataframe tbody tr th {\n",
       "        vertical-align: top;\n",
       "    }\n",
       "\n",
       "    .dataframe thead th {\n",
       "        text-align: right;\n",
       "    }\n",
       "</style>\n",
       "<table border=\"1\" class=\"dataframe\">\n",
       "  <thead>\n",
       "    <tr style=\"text-align: right;\">\n",
       "      <th></th>\n",
       "      <th>Country</th>\n",
       "      <th>Year</th>\n",
       "      <th>Direction</th>\n",
       "      <th>USD_Value</th>\n",
       "      <th>id</th>\n",
       "      <th>GDP</th>\n",
       "      <th>percent_GDP</th>\n",
       "    </tr>\n",
       "  </thead>\n",
       "  <tbody>\n",
       "    <tr>\n",
       "      <th>856</th>\n",
       "      <td>Brazil</td>\n",
       "      <td>2018</td>\n",
       "      <td>Export</td>\n",
       "      <td>3.409301e+08</td>\n",
       "      <td>76.0</td>\n",
       "      <td>1.868630e+12</td>\n",
       "      <td>0.018245</td>\n",
       "    </tr>\n",
       "    <tr>\n",
       "      <th>1146</th>\n",
       "      <td>Canada</td>\n",
       "      <td>2018</td>\n",
       "      <td>Export</td>\n",
       "      <td>2.355648e+08</td>\n",
       "      <td>124.0</td>\n",
       "      <td>1.712510e+12</td>\n",
       "      <td>0.013756</td>\n",
       "    </tr>\n",
       "    <tr>\n",
       "      <th>1619</th>\n",
       "      <td>Croatia</td>\n",
       "      <td>2018</td>\n",
       "      <td>Export</td>\n",
       "      <td>1.433121e+08</td>\n",
       "      <td>191.0</td>\n",
       "      <td>6.080566e+10</td>\n",
       "      <td>0.235689</td>\n",
       "    </tr>\n",
       "    <tr>\n",
       "      <th>2410</th>\n",
       "      <td>France</td>\n",
       "      <td>2018</td>\n",
       "      <td>Export</td>\n",
       "      <td>1.304418e+08</td>\n",
       "      <td>250.0</td>\n",
       "      <td>2.777540e+12</td>\n",
       "      <td>0.004696</td>\n",
       "    </tr>\n",
       "    <tr>\n",
       "      <th>2605</th>\n",
       "      <td>Germany</td>\n",
       "      <td>2018</td>\n",
       "      <td>Export</td>\n",
       "      <td>5.183221e+08</td>\n",
       "      <td>276.0</td>\n",
       "      <td>3.996760e+12</td>\n",
       "      <td>0.012969</td>\n",
       "    </tr>\n",
       "    <tr>\n",
       "      <th>3297</th>\n",
       "      <td>Italy</td>\n",
       "      <td>2018</td>\n",
       "      <td>Export</td>\n",
       "      <td>6.207837e+08</td>\n",
       "      <td>380.0</td>\n",
       "      <td>2.073900e+12</td>\n",
       "      <td>0.029933</td>\n",
       "    </tr>\n",
       "    <tr>\n",
       "      <th>3420</th>\n",
       "      <td>Japan</td>\n",
       "      <td>2018</td>\n",
       "      <td>Export</td>\n",
       "      <td>2.084114e+08</td>\n",
       "      <td>392.0</td>\n",
       "      <td>4.970920e+12</td>\n",
       "      <td>0.004193</td>\n",
       "    </tr>\n",
       "    <tr>\n",
       "      <th>4746</th>\n",
       "      <td>Norway</td>\n",
       "      <td>2018</td>\n",
       "      <td>Export</td>\n",
       "      <td>3.126756e+08</td>\n",
       "      <td>578.0</td>\n",
       "      <td>4.347510e+11</td>\n",
       "      <td>0.071921</td>\n",
       "    </tr>\n",
       "    <tr>\n",
       "      <th>5951</th>\n",
       "      <td>Spain</td>\n",
       "      <td>2018</td>\n",
       "      <td>Export</td>\n",
       "      <td>5.998935e+08</td>\n",
       "      <td>724.0</td>\n",
       "      <td>1.426190e+12</td>\n",
       "      <td>0.042063</td>\n",
       "    </tr>\n",
       "    <tr>\n",
       "      <th>6194</th>\n",
       "      <td>Switzerland</td>\n",
       "      <td>2018</td>\n",
       "      <td>Export</td>\n",
       "      <td>3.099191e+08</td>\n",
       "      <td>756.0</td>\n",
       "      <td>7.055010e+11</td>\n",
       "      <td>0.043929</td>\n",
       "    </tr>\n",
       "    <tr>\n",
       "      <th>6516</th>\n",
       "      <td>Turkey</td>\n",
       "      <td>2018</td>\n",
       "      <td>Export</td>\n",
       "      <td>2.744975e+08</td>\n",
       "      <td>792.0</td>\n",
       "      <td>7.665090e+11</td>\n",
       "      <td>0.035811</td>\n",
       "    </tr>\n",
       "    <tr>\n",
       "      <th>6759</th>\n",
       "      <td>United Kingdom</td>\n",
       "      <td>2018</td>\n",
       "      <td>Export</td>\n",
       "      <td>1.344988e+08</td>\n",
       "      <td>826.0</td>\n",
       "      <td>2.825210e+12</td>\n",
       "      <td>0.004761</td>\n",
       "    </tr>\n",
       "  </tbody>\n",
       "</table>\n",
       "</div>"
      ],
      "text/plain": [
       "             Country  Year Direction     USD_Value     id           GDP  \\\n",
       "856           Brazil  2018    Export  3.409301e+08   76.0  1.868630e+12   \n",
       "1146          Canada  2018    Export  2.355648e+08  124.0  1.712510e+12   \n",
       "1619         Croatia  2018    Export  1.433121e+08  191.0  6.080566e+10   \n",
       "2410          France  2018    Export  1.304418e+08  250.0  2.777540e+12   \n",
       "2605         Germany  2018    Export  5.183221e+08  276.0  3.996760e+12   \n",
       "3297           Italy  2018    Export  6.207837e+08  380.0  2.073900e+12   \n",
       "3420           Japan  2018    Export  2.084114e+08  392.0  4.970920e+12   \n",
       "4746          Norway  2018    Export  3.126756e+08  578.0  4.347510e+11   \n",
       "5951           Spain  2018    Export  5.998935e+08  724.0  1.426190e+12   \n",
       "6194     Switzerland  2018    Export  3.099191e+08  756.0  7.055010e+11   \n",
       "6516          Turkey  2018    Export  2.744975e+08  792.0  7.665090e+11   \n",
       "6759  United Kingdom  2018    Export  1.344988e+08  826.0  2.825210e+12   \n",
       "\n",
       "      percent_GDP  \n",
       "856      0.018245  \n",
       "1146     0.013756  \n",
       "1619     0.235689  \n",
       "2410     0.004696  \n",
       "2605     0.012969  \n",
       "3297     0.029933  \n",
       "3420     0.004193  \n",
       "4746     0.071921  \n",
       "5951     0.042063  \n",
       "6194     0.043929  \n",
       "6516     0.035811  \n",
       "6759     0.004761  "
      ]
     },
     "execution_count": 56,
     "metadata": {},
     "output_type": "execute_result"
    }
   ],
   "source": [
    "# List of Country Names to look at \n",
    "countries = ['USA', 'Italy', 'Spain', 'Germany', 'Czech Rep.', 'Brazil', 'Norway', 'Switzerland', 'Turkey', 'Canada', 'Japan', 'Croatia', 'United Kingdom', 'France']\n",
    "year = 2018\n",
    "status = 'Export'\n",
    "\n",
    "df_for_perc_of_gdp = arms_gdp[(arms_gdp['Country'].isin(countries)) & \n",
    "                              (arms_gdp['Year'] == year) & \n",
    "                              (arms_gdp['Direction'] == status)].drop_duplicates('Country')\n",
    "\n",
    "df_for_perc_of_gdp['percent_GDP'] = df_for_perc_of_gdp['percent_GDP'] * 100\n",
    "\n",
    "# ONLY FOR NOW\n",
    "df_for_perc_of_gdp = df_for_perc_of_gdp.dropna()\n",
    "df_for_perc_of_gdp\n",
    "\n",
    "# Sources:\n",
    "# https://stackoverflow.com/questions/52877697/order-bar-chart-in-altair\n",
    "# https://altair-viz.github.io/user_guide/generated/core/altair.Axis.html\n",
    "# https://altair-viz.github.io/user_guide/customization.html\n"
   ]
  },
  {
   "cell_type": "code",
   "execution_count": 74,
   "metadata": {},
   "outputs": [
    {
     "data": {
      "application/vnd.vegalite.v3+json": {
       "$schema": "https://vega.github.io/schema/vega-lite/v3.4.0.json",
       "config": {
        "bar": {
         "color": "orange"
        },
        "mark": {
         "tooltip": null
        },
        "view": {
         "height": 300,
         "width": 400
        }
       },
       "data": {
        "name": "data-cc8af0b86b0228f150f2f37361502f05"
       },
       "datasets": {
        "data-cc8af0b86b0228f150f2f37361502f05": [
         {
          "Country": "Brazil",
          "Direction": "Export",
          "GDP": 1868630000000,
          "USD_Value": 340930090,
          "Year": 2018,
          "id": 76,
          "percent_GDP": 0.018244922215740943
         },
         {
          "Country": "Canada",
          "Direction": "Export",
          "GDP": 1712510000000,
          "USD_Value": 235564849.9505828,
          "Year": 2018,
          "id": 124,
          "percent_GDP": 0.013755531351675775
         },
         {
          "Country": "Croatia",
          "Direction": "Export",
          "GDP": 60805659436,
          "USD_Value": 143312116,
          "Year": 2018,
          "id": 191,
          "percent_GDP": 0.2356887785270067
         },
         {
          "Country": "France",
          "Direction": "Export",
          "GDP": 2777540000000,
          "USD_Value": 130441836.32611266,
          "Year": 2018,
          "id": 250,
          "percent_GDP": 0.004696308111714418
         },
         {
          "Country": "Germany",
          "Direction": "Export",
          "GDP": 3996760000000,
          "USD_Value": 518322076.4895818,
          "Year": 2018,
          "id": 276,
          "percent_GDP": 0.012968556442958341
         },
         {
          "Country": "Italy",
          "Direction": "Export",
          "GDP": 2073900000000,
          "USD_Value": 620783656.5132729,
          "Year": 2018,
          "id": 380,
          "percent_GDP": 0.029933152828645202
         },
         {
          "Country": "Japan",
          "Direction": "Export",
          "GDP": 4970920000000,
          "USD_Value": 208411359.47157,
          "Year": 2018,
          "id": 392,
          "percent_GDP": 0.0041926114174352025
         },
         {
          "Country": "Norway",
          "Direction": "Export",
          "GDP": 434751000000,
          "USD_Value": 312675565.22841567,
          "Year": 2018,
          "id": 578,
          "percent_GDP": 0.07192060863078306
         },
         {
          "Country": "Spain",
          "Direction": "Export",
          "GDP": 1426190000000,
          "USD_Value": 599893495.4916621,
          "Year": 2018,
          "id": 724,
          "percent_GDP": 0.042062663143877195
         },
         {
          "Country": "Switzerland",
          "Direction": "Export",
          "GDP": 705501000000,
          "USD_Value": 309919061.61851484,
          "Year": 2018,
          "id": 756,
          "percent_GDP": 0.0439289330020106
         },
         {
          "Country": "Turkey",
          "Direction": "Export",
          "GDP": 766509000000,
          "USD_Value": 274497456,
          "Year": 2018,
          "id": 792,
          "percent_GDP": 0.035811380688289374
         },
         {
          "Country": "United Kingdom",
          "Direction": "Export",
          "GDP": 2825210000000,
          "USD_Value": 134498767.5473967,
          "Year": 2018,
          "id": 826,
          "percent_GDP": 0.004760664430162597
         }
        ]
       },
       "encoding": {
        "order": [
         {
          "field": "percent_GDP",
          "sort": "descending",
          "type": "quantitative"
         }
        ],
        "tooltip": [
         {
          "field": "Country",
          "type": "nominal"
         },
         {
          "field": "percent_GDP",
          "type": "quantitative"
         }
        ],
        "x": {
         "axis": {
          "labelAngle": 0
         },
         "field": "Country",
         "sort": {
          "field": "percent_GDP",
          "order": "descending"
         },
         "title": "Country",
         "type": "nominal"
        },
        "y": {
         "field": "percent_GDP",
         "scale": {
          "domain": [
           0,
           0.5
          ]
         },
         "title": "Arms Trade as a Percentage of GDP",
         "type": "quantitative"
        }
       },
       "height": 380,
       "mark": "bar",
       "width": 1000
      },
      "image/png": "[encoded data removed]",
      "text/plain": [
       "<VegaLite 3 object>\n",
       "\n",
       "If you see this message, it means the renderer has not been properly enabled\n",
       "for the frontend that you are using. For more information, see\n",
       "https://altair-viz.github.io/user_guide/troubleshooting.html\n"
      ]
     },
     "execution_count": 74,
     "metadata": {},
     "output_type": "execute_result"
    }
   ],
   "source": [
    "alt.Chart(df_for_perc_of_gdp).mark_bar().encode(\n",
    "    alt.X('Country:N', \n",
    "          sort=alt.EncodingSortField(field='percent_GDP', \n",
    "                                     order='descending'),\n",
    "          title='Country',\n",
    "          axis=alt.Axis(labelAngle=0)),\n",
    "    alt.Y('percent_GDP:Q',\n",
    "          title='Arms Trade as a Percentage of GDP',\n",
    "          scale=alt.Scale(domain=(0, 0.5))),\n",
    "    alt.Order(shorthand=['percent_GDP'], sort='descending'),\n",
    "    alt.Tooltip(['Country', 'percent_GDP'])\n",
    ").configure_bar(color='orange'\n",
    ").properties(width=1000, \n",
    "             height=380)"
   ]
  },
  {
   "cell_type": "code",
   "execution_count": 75,
   "metadata": {},
   "outputs": [],
   "source": [
    "def update_gdp_perc_chart(year=2018, stat_type='Export'):\n",
    "    countries = ['USA', 'Italy', 'Spain', 'Germany', 'Czech Rep.', 'Brazil', 'Norway', \n",
    "                 'Switzerland', 'Turkey', 'Canada', 'Japan', 'Croatia', 'United Kingdom', 'France']\n",
    "    \n",
    "    # Wrangling specific to this chart:\n",
    "    df_for_perc_of_gdp = arms_gdp[(arms_gdp['Country'].isin(countries)) & \n",
    "                                  (arms_gdp['Year'] == year) & \n",
    "                                  (arms_gdp['Direction'] == stat_type)].drop_duplicates('Country')\n",
    "\n",
    "    df_for_perc_of_gdp['percent_GDP'] = df_for_perc_of_gdp['percent_GDP'] * 100\n",
    "    \n",
    "    # Make the chart:\n",
    "    chart = alt.Chart(df_for_perc_of_gdp).mark_bar().encode(\n",
    "        alt.X('Country:N', \n",
    "              sort=alt.EncodingSortField(field='percent_GDP', \n",
    "                                         order='descending'),\n",
    "              title='Country',\n",
    "              axis=alt.Axis(labelAngle=0)),\n",
    "        alt.Y('percent_GDP:Q',\n",
    "              title='Arms Trade as a Percentage of GDP',\n",
    "              scale=alt.Scale(domain=(0, 0.5))),\n",
    "        alt.Order(shorthand=['percent_GDP'], sort='descending'),\n",
    "        alt.Tooltip(['Country', 'percent_GDP'])\n",
    "    ).configure_bar(color='orange'\n",
    "    ).properties(width=1000, \n",
    "                 height=380)\n",
    "    \n",
    "    return chart"
   ]
  },
  {
   "cell_type": "code",
   "execution_count": 76,
   "metadata": {},
   "outputs": [
    {
     "data": {
      "text/plain": [
       "<function __main__.update_gdp_perc_chart(year=2018, stat_type='Export')>"
      ]
     },
     "execution_count": 76,
     "metadata": {},
     "output_type": "execute_result"
    }
   ],
   "source": [
    "update_gdp_perc_chart"
   ]
  },
  {
   "cell_type": "code",
   "execution_count": null,
   "metadata": {},
   "outputs": [],
   "source": []
  }
 ],
 "metadata": {
  "kernelspec": {
   "display_name": "Python 3",
   "language": "python",
   "name": "python3"
  },
  "language_info": {
   "codemirror_mode": {
    "name": "ipython",
    "version": 3
   },
   "file_extension": ".py",
   "mimetype": "text/x-python",
   "name": "python",
   "nbconvert_exporter": "python",
   "pygments_lexer": "ipython3",
   "version": "3.7.3"
  }
 },
 "nbformat": 4,
 "nbformat_minor": 4
}
