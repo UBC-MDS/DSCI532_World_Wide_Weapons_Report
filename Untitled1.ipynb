{
 "cells": [
  {
   "cell_type": "code",
   "execution_count": 1,
   "metadata": {},
   "outputs": [],
   "source": [
    "import pandas as pd\n",
    "import numpy as np\n",
    "import altair as alt\n",
    "from vega_datasets import data"
   ]
  },
  {
   "cell_type": "code",
   "execution_count": 2,
   "metadata": {},
   "outputs": [],
   "source": [
    "world_map_skl = alt.topo_feature(data.world_110m.url, 'countries')\n",
    "gdps = pd.read_csv('https://raw.githubusercontent.com/UBC-MDS/DSCI532_World_Wide_Weapons_Report/master/data/clean/gdp_1960_2018_worldbank.csv')\n",
    "arms = pd.read_csv('https://raw.githubusercontent.com/UBC-MDS/DSCI532_World_Wide_Weapons_Report/master/data/clean/un-arms-and-ammunition_1988-2018.csv')\n",
    "alt_country_ids = pd.read_csv(\n",
    "    'https://raw.githubusercontent.com/KoGor/Map-Icons-Generator/master/data/world-110m-country-names.tsv',\n",
    "    delimiter=\"\\t\")"
   ]
  },
  {
   "cell_type": "code",
   "execution_count": 48,
   "metadata": {},
   "outputs": [],
   "source": [
    "# MY WRANGLING\n",
    "gdp_ids = pd.merge(gdps, alt_country_ids, left_on='Country', right_on='name')[['Country', 'id', 'Year', 'GDP']]\n",
    "arms_cleaned = arms[['Country', 'Year', 'Direction', 'USD_Value']]\n",
    "arms_gdp = arms_cleaned.merge(gdp_ids, on=['Country'], how='left')\n",
    "gdp_arms = arms_cleaned.merge(gdp_ids, on=['Country'], how='right')"
   ]
  },
  {
   "cell_type": "code",
   "execution_count": 59,
   "metadata": {},
   "outputs": [
    {
     "data": {
      "text/html": [
       "<div>\n",
       "<style scoped>\n",
       "    .dataframe tbody tr th:only-of-type {\n",
       "        vertical-align: middle;\n",
       "    }\n",
       "\n",
       "    .dataframe tbody tr th {\n",
       "        vertical-align: top;\n",
       "    }\n",
       "\n",
       "    .dataframe thead th {\n",
       "        text-align: right;\n",
       "    }\n",
       "</style>\n",
       "<table border=\"1\" class=\"dataframe\">\n",
       "  <thead>\n",
       "    <tr style=\"text-align: right;\">\n",
       "      <th></th>\n",
       "      <th>Country</th>\n",
       "      <th>Year_x</th>\n",
       "      <th>Direction</th>\n",
       "      <th>USD_Value</th>\n",
       "      <th>id</th>\n",
       "      <th>Year_y</th>\n",
       "      <th>GDP</th>\n",
       "    </tr>\n",
       "  </thead>\n",
       "  <tbody>\n",
       "    <tr>\n",
       "      <th>22</th>\n",
       "      <td>Afghanistan</td>\n",
       "      <td>2018</td>\n",
       "      <td>Import</td>\n",
       "      <td>14310406.46</td>\n",
       "      <td>4.0</td>\n",
       "      <td>1982.0</td>\n",
       "      <td>NaN</td>\n",
       "    </tr>\n",
       "    <tr>\n",
       "      <th>23</th>\n",
       "      <td>Afghanistan</td>\n",
       "      <td>2018</td>\n",
       "      <td>Import</td>\n",
       "      <td>14310406.46</td>\n",
       "      <td>4.0</td>\n",
       "      <td>1983.0</td>\n",
       "      <td>NaN</td>\n",
       "    </tr>\n",
       "    <tr>\n",
       "      <th>24</th>\n",
       "      <td>Afghanistan</td>\n",
       "      <td>2018</td>\n",
       "      <td>Import</td>\n",
       "      <td>14310406.46</td>\n",
       "      <td>4.0</td>\n",
       "      <td>1984.0</td>\n",
       "      <td>NaN</td>\n",
       "    </tr>\n",
       "    <tr>\n",
       "      <th>25</th>\n",
       "      <td>Afghanistan</td>\n",
       "      <td>2018</td>\n",
       "      <td>Import</td>\n",
       "      <td>14310406.46</td>\n",
       "      <td>4.0</td>\n",
       "      <td>1985.0</td>\n",
       "      <td>NaN</td>\n",
       "    </tr>\n",
       "    <tr>\n",
       "      <th>26</th>\n",
       "      <td>Afghanistan</td>\n",
       "      <td>2018</td>\n",
       "      <td>Import</td>\n",
       "      <td>14310406.46</td>\n",
       "      <td>4.0</td>\n",
       "      <td>1986.0</td>\n",
       "      <td>NaN</td>\n",
       "    </tr>\n",
       "  </tbody>\n",
       "</table>\n",
       "</div>"
      ],
      "text/plain": [
       "        Country  Year_x Direction    USD_Value   id  Year_y  GDP\n",
       "22  Afghanistan    2018    Import  14310406.46  4.0  1982.0  NaN\n",
       "23  Afghanistan    2018    Import  14310406.46  4.0  1983.0  NaN\n",
       "24  Afghanistan    2018    Import  14310406.46  4.0  1984.0  NaN\n",
       "25  Afghanistan    2018    Import  14310406.46  4.0  1985.0  NaN\n",
       "26  Afghanistan    2018    Import  14310406.46  4.0  1986.0  NaN"
      ]
     },
     "execution_count": 59,
     "metadata": {},
     "output_type": "execute_result"
    }
   ],
   "source": [
    "arms_gdp[pd.isnull(arms_gdp).any(axis=1)].head()#['Country'].unique()"
   ]
  },
  {
   "cell_type": "code",
   "execution_count": 74,
   "metadata": {},
   "outputs": [],
   "source": [
    "vals = gdp_ids['Country'].unique()"
   ]
  },
  {
   "cell_type": "code",
   "execution_count": 75,
   "metadata": {},
   "outputs": [
    {
     "data": {
      "text/plain": [
       "array(['Afghanistan', 'Albania', 'Algeria', 'Andorra', 'Angola',\n",
       "       'Anguilla', 'Antigua and Barbuda', 'Argentina', 'Armenia', 'Aruba',\n",
       "       'Australia', 'Austria', 'Azerbaijan', 'Bahamas', 'Bahrain',\n",
       "       'Bangladesh', 'Barbados', 'Belarus', 'Belgium',\n",
       "       'Belgium-Luxembourg', 'Belize', 'Benin', 'Bermuda', 'Bhutan',\n",
       "       'Bolivia (Plurinational State of)', 'Bosnia Herzegovina',\n",
       "       'Botswana', 'Brazil', 'Brunei Darussalam', 'Bulgaria',\n",
       "       'Burkina Faso', 'Burundi', 'Cabo Verde', 'Cambodia', 'Cameroon',\n",
       "       'Canada', 'Central African Rep.', 'Chad', 'Chile', 'China',\n",
       "       'China, Hong Kong SAR', 'China, Macao SAR', 'Colombia', 'Comoros',\n",
       "       'Congo', 'Cook Isds', 'Costa Rica', 'Croatia', 'Cuba', 'Cyprus',\n",
       "       'Czech Rep.', \"Côte d'Ivoire\", 'Denmark', 'Djibouti', 'Dominica',\n",
       "       'Dominican Rep.', 'EU-28', 'Ecuador', 'Egypt', 'El Salvador',\n",
       "       'Eritrea', 'Estonia', 'Ethiopia', 'FS Micronesia', 'Faeroe Isds',\n",
       "       'Fiji', 'Finland', 'Fmr Fed. Rep. of Germany', 'Fmr Sudan',\n",
       "       'France', 'French Guiana', 'French Polynesia', 'Gabon', 'Gambia',\n",
       "       'Georgia', 'Germany', 'Ghana', 'Greece', 'Greenland', 'Grenada',\n",
       "       'Guadeloupe', 'Guatemala', 'Guinea', 'Guinea-Bissau', 'Guyana',\n",
       "       'Honduras', 'Hungary', 'Iceland', 'India', 'Indonesia', 'Iran',\n",
       "       'Iraq', 'Ireland', 'Israel', 'Italy', 'Jamaica', 'Japan', 'Kenya',\n",
       "       'Kiribati', 'Kuwait', 'Kyrgyzstan', \"Lao People's Dem. Rep.\",\n",
       "       'Latvia', 'Lebanon', 'Lesotho', 'Libya', 'Lithuania', 'Luxembourg',\n",
       "       'Madagascar', 'Malawi', 'Malaysia', 'Maldives', 'Mali', 'Malta',\n",
       "       'Martinique', 'Mauritania', 'Mauritius', 'Mayotte', 'Mexico',\n",
       "       'Mongolia', 'Montenegro', 'Montserrat', 'Morocco', 'Mozambique',\n",
       "       'Myanmar', 'Namibia', 'Nepal', 'Neth. Antilles', 'Netherlands',\n",
       "       'New Caledonia', 'New Zealand', 'Nicaragua', 'Niger', 'Nigeria',\n",
       "       'Norway', 'Oman', 'Other Asia, nes', 'Pakistan', 'Palau', 'Panama',\n",
       "       'Papua New Guinea', 'Paraguay', 'Peru', 'Philippines', 'Poland',\n",
       "       'Portugal', 'Qatar', 'Rep. of Korea', 'Rep. of Moldova', 'Romania',\n",
       "       'Russian Federation', 'Rwanda', 'Réunion', 'Saint Kitts and Nevis',\n",
       "       'Saint Lucia', 'Saint Vincent and the Grenadines', 'Samoa',\n",
       "       'Sao Tome and Principe', 'Saudi Arabia', 'Senegal', 'Serbia',\n",
       "       'Serbia and Montenegro', 'Seychelles', 'Sierra Leone', 'Singapore',\n",
       "       'Slovakia', 'Slovenia', 'So. African Customs Union',\n",
       "       'Solomon Isds', 'Spain', 'Sri Lanka', 'State of Palestine',\n",
       "       'Sudan', 'Suriname', 'Swaziland', 'Sweden', 'Switzerland', 'Syria',\n",
       "       'TFYR of Macedonia', 'Thailand', 'Timor-Leste', 'Togo', 'Tonga',\n",
       "       'Trinidad and Tobago', 'Tunisia', 'Turkey', 'Turkmenistan',\n",
       "       'Turks and Caicos Isds', 'Tuvalu', 'USA', 'Uganda',\n",
       "       'United Arab Emirates', 'United Kingdom',\n",
       "       'United Rep. of Tanzania', 'Uruguay', 'Vanuatu', 'Venezuela',\n",
       "       'Viet Nam', 'Wallis and Futuna Isds', 'Yemen', 'Zambia',\n",
       "       'Zimbabwe'], dtype=object)"
      ]
     },
     "execution_count": 75,
     "metadata": {},
     "output_type": "execute_result"
    }
   ],
   "source": [
    "arms_cleaned['Country'].unique()"
   ]
  },
  {
   "cell_type": "code",
   "execution_count": 76,
   "metadata": {},
   "outputs": [],
   "source": [
    "LIST = arms_cleaned['Country'].unique()"
   ]
  },
  {
   "cell_type": "code",
   "execution_count": 77,
   "metadata": {},
   "outputs": [
    {
     "name": "stdout",
     "output_type": "stream",
     "text": [
      "Equatorial Guinea\n",
      "Haiti\n",
      "Jordan\n",
      "Kazakhstan\n",
      "Liberia\n",
      "Puerto Rico\n",
      "Somalia\n",
      "South Sudan\n",
      "Syrian Arab Republic\n",
      "Tajikistan\n",
      "Ukraine\n",
      "Uzbekistan\n",
      "South Africa\n"
     ]
    }
   ],
   "source": [
    "for i in vals:\n",
    "    if i in LIST:\n",
    "        continue\n",
    "    else:\n",
    "        print(i)"
   ]
  },
  {
   "cell_type": "code",
   "execution_count": 69,
   "metadata": {},
   "outputs": [],
   "source": [
    "# We will replace values with other values in the gdp_ids dataset:\n",
    "# current val: val to replace with\n",
    "replacements = {'Bosnia and Herzegovina':'Bosnia Herzegovina',\n",
    "'Central African Republic':'Central African Rep.',\n",
    "\"Cote d'Ivoire\":\"Côte d'Ivoire\",\n",
    "'Czech Republic':'Czech Rep.',\n",
    "'Dominican Republic':'Dominican Rep.',\n",
    "'Solomon Islands':'Solomon Isds',\n",
    "'United States':'USA'}"
   ]
  },
  {
   "cell_type": "code",
   "execution_count": 73,
   "metadata": {},
   "outputs": [],
   "source": [
    "gdp_ids = gdp_ids.replace(replacements)"
   ]
  },
  {
   "cell_type": "code",
   "execution_count": null,
   "metadata": {},
   "outputs": [],
   "source": []
  }
 ],
 "metadata": {
  "kernelspec": {
   "display_name": "Python 3",
   "language": "python",
   "name": "python3"
  },
  "language_info": {
   "codemirror_mode": {
    "name": "ipython",
    "version": 3
   },
   "file_extension": ".py",
   "mimetype": "text/x-python",
   "name": "python",
   "nbconvert_exporter": "python",
   "pygments_lexer": "ipython3",
   "version": "3.7.3"
  }
 },
 "nbformat": 4,
 "nbformat_minor": 4
}
